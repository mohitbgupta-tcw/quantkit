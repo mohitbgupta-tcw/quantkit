{
 "cells": [
  {
   "cell_type": "markdown",
   "metadata": {},
   "source": [
    "# Pull Data"
   ]
  },
  {
   "cell_type": "code",
   "execution_count": 1,
   "metadata": {},
   "outputs": [],
   "source": [
    "# add quantkit to path\n",
    "import sys\n",
    "from pathlib import Path\n",
    "d = Path().resolve().parent.parent\n",
    "sys.path.insert(0, str(d))"
   ]
  },
  {
   "cell_type": "markdown",
   "metadata": {},
   "source": [
    "## FRED"
   ]
  },
  {
   "cell_type": "code",
   "execution_count": 2,
   "metadata": {},
   "outputs": [],
   "source": [
    "import quantkit.handyman.fred_data_loader as fred_data_loader\n",
    "import quantkit.handyman.bloomberg_data_loader as bloomberg_data_loader\n",
    "import pandas as pd\n",
    "\n",
    "# weekly data, 1, 3 month MA\n",
    "jobless_claims = fred_data_loader.run_fred_api(\"ICSA\", revision=True, realtime_start=\"2007-01-01\", averages=[4, 12])\n",
    "jobless_claims[\"Source\"] = \"FRED\"\n",
    "\n",
    "# monthly data, 3 month MA\n",
    "personal_income = fred_data_loader.run_fred_api(\"PI\", revision=True, realtime_start=\"2007-01-01\", averages=[3])\n",
    "personal_income[\"Source\"] = \"FRED\"\n",
    "\n",
    "# weekly data, 3 month MA, 1 year change\n",
    "consumer_loans = fred_data_loader.run_fred_api(\n",
    "    \"CLSACBW027SBOG\", \n",
    "    revision=True,\n",
    "    realtime_start=\"2007-01-01\", \n",
    "    averages=[12],\n",
    "    changes=[52]\n",
    ")\n",
    "consumer_loans[\"Source\"] = \"FRED\"\n",
    "\n",
    "# weekly data, 3 month MA, 1 year change\n",
    "real_estate_loans = fred_data_loader.run_fred_api(\n",
    "    \"RELACBW027SBOG\", \n",
    "    revision=True,\n",
    "    realtime_start=\"2007-01-01\", \n",
    "    averages=[12],\n",
    "    changes=[52],\n",
    ")\n",
    "real_estate_loans[\"Source\"] = \"FRED\"\n",
    "\n",
    "# monthly data, month over month difference\n",
    "unemployment_rate = fred_data_loader.run_fred_api(\"UNRATE\", revision=True, realtime_start=\"2007-01-01\", differences=[1])\n",
    "unemployment_rate[\"Source\"] = \"FRED\""
   ]
  },
  {
   "cell_type": "markdown",
   "metadata": {},
   "source": [
    "## Bloomberg"
   ]
  },
  {
   "cell_type": "code",
   "execution_count": 3,
   "metadata": {},
   "outputs": [],
   "source": [
    "bb_list = [\n",
    "    \"NAPMPROD Index\",\n",
    "    \"CONCCONF Index\",\n",
    "    \"CPI YOY Index\",\t\n",
    "    \"PCE CYOY Index\",\t\n",
    "    \"JTSYBE5 Index\",\t\n",
    "    \"JTSYBE10 Index\",\t\n",
    "    \"FED5YEAR Index\",\n",
    "    \"USSOC Curncy\",\n",
    "    \"SHY US Equity\",\t\n",
    "    \"IEF US Equity\",\n",
    "    \"USGG10YR Index\",\n",
    "    \"USGG2YR Index\",\t\n",
    "    \"CLEV16%Y Index\",\t\n",
    "    \"CLEVXPYC Index\",\n",
    "    \"USGG5Y5Y INDEX\",\n",
    "    \"S0042FS 3M3M BLC CURNCY\",\n",
    "    \"JFRIUS INDEX\",\n",
    "    \"FARWUSNB Index\",\n",
    "    \"FARWUSII Index\",\n",
    "    \"DEBPNOTE Index\",\n",
    "    \"DEBPBOND Index\",\n",
    "    \"DEBPINNT Index\"\n",
    "]\n",
    "\n",
    "bb_d = dict()\n",
    "\n",
    "for ind in bb_list:\n",
    "    data = bloomberg_data_loader.get_price_data([ind], start_date=\"1/1/1980\")\n",
    "    data[\"Source\"] = \"Bloomberg\"\n",
    "    bb_d[ind] = data"
   ]
  },
  {
   "cell_type": "markdown",
   "metadata": {},
   "source": [
    "# Write Default Data"
   ]
  },
  {
   "cell_type": "code",
   "execution_count": 3,
   "metadata": {},
   "outputs": [],
   "source": [
    "with pd.ExcelWriter('economic_data.xlsx', engine='xlsxwriter') as writer:\n",
    "    jobless_claims.to_excel(writer, sheet_name='Jobless Claims', index=False)\n",
    "    personal_income.to_excel(writer, sheet_name='Personal Income', index=False)\n",
    "    consumer_loans.to_excel(writer, sheet_name='Consumer Loans', index=False)\n",
    "    real_estate_loans.to_excel(writer, sheet_name='Real Estata Loans', index=False)\n",
    "    unemployment_rate.to_excel(writer, sheet_name='Unemployment Rate', index=False)\n",
    "    for ind, data in bb_d.items():\n",
    "        data.to_excel(writer, sheet_name=ind)"
   ]
  },
  {
   "cell_type": "markdown",
   "metadata": {},
   "source": [
    "# Write Monday Data"
   ]
  },
  {
   "cell_type": "code",
   "execution_count": 4,
   "metadata": {},
   "outputs": [],
   "source": [
    "from datetime import datetime\n",
    "from dateutil import relativedelta\n",
    "datetime(2023,1,1) + relativedelta.relativedelta(day=31, weekday=relativedelta.MO(-1))\n",
    "\n",
    "years = [i for i in range(1980, 2025)]\n",
    "months = [i for i in range(1, 13)]\n",
    "\n",
    "last_mondays = list() \n",
    "\n",
    "for year in years:\n",
    "    for month in months:\n",
    "        last_mondays.append(datetime(year,month,1) + relativedelta.relativedelta(day=31, weekday=relativedelta.MO(-1)))"
   ]
  },
  {
   "cell_type": "code",
   "execution_count": 5,
   "metadata": {},
   "outputs": [],
   "source": [
    "dfs = list()\n",
    "fred_dfs = [jobless_claims, personal_income, consumer_loans, real_estate_loans, unemployment_rate]\n",
    "\n",
    "for d in fred_dfs:\n",
    "    d_temp = d.set_index(\"publish_date\")\n",
    "    d_temp = d_temp.sort_index()\n",
    "    d_temp = d_temp.drop([\"date_from\", \"Source\"], axis=1)\n",
    "    for col in d_temp.columns:\n",
    "        l = list()\n",
    "        for monday in last_mondays:\n",
    "            val = d_temp.asof(monday)[col]\n",
    "            l.append(( monday, val))\n",
    "        dfs.append(pd.DataFrame(l, columns=[ \"Date\", f\"{col}\"]).set_index(\"Date\"))\n",
    "\n",
    "for ind, data in bb_d.items():\n",
    "    d_temp = data.drop([\"Source\"], axis=1)\n",
    "    d_temp = d_temp.sort_index()\n",
    "    for col in d_temp.columns:\n",
    "        l = list()\n",
    "        for monday in last_mondays:\n",
    "            val = d_temp.asof(monday)[col]\n",
    "            l.append(( monday, val))\n",
    "        dfs.append(pd.DataFrame(l, columns=[ \"Date\", f\"{col}\"]).set_index(\"Date\"))"
   ]
  },
  {
   "cell_type": "code",
   "execution_count": 6,
   "metadata": {},
   "outputs": [],
   "source": [
    "monday_data = pd.concat([i for i in dfs], axis=1)"
   ]
  },
  {
   "cell_type": "markdown",
   "metadata": {},
   "source": [
    "# Calculte Z-Scores"
   ]
  },
  {
   "cell_type": "code",
   "execution_count": 7,
   "metadata": {},
   "outputs": [],
   "source": [
    "dfs = list()\n",
    "\n",
    "for d in fred_dfs:\n",
    "    d_temp = d.set_index(\"publish_date\")\n",
    "    d_temp = d_temp.drop([\"date_from\", \"Source\"], axis=1)\n",
    "    for col in d_temp.columns:\n",
    "        l = list()\n",
    "\n",
    "        z_score  = (d_temp[col] - d_temp[col].mean()) / d_temp[col].std()\n",
    "        l.append(( col, z_score.values[-1]))\n",
    "        dfs.append(pd.DataFrame(l, columns=[ \"Factor\", f\"Z-Score\"]).set_index(\"Factor\"))\n",
    "\n",
    "for ind, data in bb_d.items():\n",
    "    d_temp = data.drop([\"Source\"], axis=1)\n",
    "    for col in d_temp.columns:\n",
    "        l = list()\n",
    "\n",
    "        z_score  = (d_temp[col] - d_temp[col].mean()) / d_temp[col].std()\n",
    "        l.append(( col, z_score.values[-1]))\n",
    "        dfs.append(pd.DataFrame(l, columns=[ \"Factor\", f\"Z-Score\"]).set_index(\"Factor\"))"
   ]
  },
  {
   "cell_type": "code",
   "execution_count": 8,
   "metadata": {},
   "outputs": [],
   "source": [
    "z_score_data = pd.concat([i for i in dfs])"
   ]
  },
  {
   "cell_type": "markdown",
   "metadata": {},
   "source": [
    "# Write Data Dictionary"
   ]
  },
  {
   "cell_type": "code",
   "execution_count": 11,
   "metadata": {},
   "outputs": [],
   "source": [
    "mapping_dict = [\n",
    "    (\"ICSA\", \"Unemployment Insurance Claims Report\", \"FRED\", \"Weekly\", jobless_claims[\"date_from\"].min(), jobless_claims[\"date_from\"].max()),\n",
    "    (\"ICSA_4MA\", \"Unemployment Insurance Claims Report 1 Month Moving Average\", \"Calculated\", \"Weekly\", jobless_claims[\"date_from\"].min(), jobless_claims[\"date_from\"].max()),\n",
    "    (\"ICSA_12MA\", \"Unemployment Insurance Claims Report 3 Months Moving Average\", \"Calculated\", \"Weekly\", jobless_claims[\"date_from\"].min(), jobless_claims[\"date_from\"].max()),\n",
    "    (\"PI\", \"Personal Income\", \"FRED\", \"Monthly\", personal_income[\"date_from\"].min(), personal_income[\"date_from\"].max()),\n",
    "    (\"PI_3MA\", \"Personal Income 3 Months Moving Average\", \"Calculated\", \"Monthly\", personal_income[\"date_from\"].min(), personal_income[\"date_from\"].max()),\n",
    "    (\"CLSACBW027SBOG\", \"Consumer Loans, All Commercial Banks\", \"FRED\", \"Weekly\", consumer_loans[\"date_from\"].min(), consumer_loans[\"date_from\"].max()),\n",
    "    (\"CLSACBW027SBOG_12MA\", \"Consumer Loans, All Commercial Banks 3 Months Moving Average\", \"Calculated\", \"Weekly\", consumer_loans[\"date_from\"].min(), consumer_loans[\"date_from\"].max()),\n",
    "    (\"CLSACBW027SBOG_52Change\", \"Consumer Loans, All Commercial Banks 1 Year % Change\", \"Calculated\", \"Weekly\", consumer_loans[\"date_from\"].min(), consumer_loans[\"date_from\"].max()),\n",
    "    (\"RELACBW027SBOG\", \"Real Estate Loans, All Commercial Banks\", \"FRED\", \"Weekly\", real_estate_loans[\"date_from\"].min(), real_estate_loans[\"date_from\"].max()),\n",
    "    (\"RELACBW027SBOG_12MA\", \"Real Estate Loans, All Commercial Banks 3 Months Moving Average\", \"Calculated\", \"Weekly\", real_estate_loans[\"date_from\"].min(), real_estate_loans[\"date_from\"].max()),\n",
    "    (\"RELACBW027SBOG_52Change\", \"Real Estate Loans, All Commercial Banks 1 Year % Change\", \"Calculated\", \"Weekly\", real_estate_loans[\"date_from\"].min(), real_estate_loans[\"date_from\"].max()),\n",
    "    (\"UNRATE\", \"Unemployment Rate\", \"FRED\", \"Monthly\", unemployment_rate[\"date_from\"].min(), unemployment_rate[\"date_from\"].max()),\n",
    "    (\"UNRATE_1Diff\", \"Unemployment Rate Month over Month Change\", \"Calculated\",\"Monthly\", unemployment_rate[\"date_from\"].min(), unemployment_rate[\"date_from\"].max()),\n",
    "    (\"NAPMPROD Index\", \"ISM Manufacturing Report on Business Production SA\", \"Bloomberg\" , \"Monthly\", bb_d[\"NAPMPROD Index\"].index.min(), bb_d[\"NAPMPROD Index\"].index.max()),\n",
    "    (\"CONCCONF Index\", \"Conference Board Consumer Confidence SA\", \"Bloomberg\", \"Monthly\", bb_d[\"CONCCONF Index\"].index.min(), bb_d[\"CONCCONF Index\"].index.max()),\n",
    "    (\"CPI YOY Index\", \"US CPI Urban Consumers YoY NSA\", \"Bloomberg\", \"Monthly\", bb_d[\"CPI YOY Index\"].index.min(), bb_d[\"CPI YOY Index\"].index.max()),\n",
    "    (\"PCE CYOY Index\", \"US Personal Consumption Expenditure Core Price Index YoY SA\", \"Bloomberg\", \"Monthly\", bb_d[\"PCE CYOY Index\"].index.min(), bb_d[\"PCE CYOY Index\"].index.max()),\n",
    "    (\"JTSYBE5 Index\", \"J.P. Morgan 5-year TIPS Breakeven Fair Value model\", \"Bloomberg\", \"Daily\", bb_d[\"JTSYBE5 Index\"].index.min(), bb_d[\"JTSYBE5 Index\"].index.max()),\n",
    "    (\"JTSYBE10 Index\", \"J.P. Morgan 10-year TIPS Breakeven Fair Value model\", \"Bloomberg\", \"Daily\", bb_d[\"JTSYBE10 Index\"].index.min(), bb_d[\"JTSYBE10 Index\"].index.max()),\n",
    "    (\"FED5YEAR Index\", \"US Federal Reserve Five-year Forward Five Year Breakeven Inflation Rate\", \"Bloomberg\", \"Daily\", bb_d[\"FED5YEAR Index\"].index.min(), bb_d[\"FED5YEAR Index\"].index.max()),\n",
    "    (\"USSOC Curncy\", \"USD SWAP OIS\", \"Bloomberg\", \"Daily\", bb_d[\"USSOC Curncy\"].index.min(), bb_d[\"USSOC Curncy\"].index.max()),\n",
    "    (\"SHY US Equity\", \"ISHARES 1-3 YEAR TREASURY BO\", \"Bloomberg\", \"Daily\", bb_d[\"SHY US Equity\"].index.min(), bb_d[\"SHY US Equity\"].index.max()),\n",
    "    (\"IEF US Equity\", \"ISHARES 7-10 YEAR TREASURY B\", \"Bloomberg\", \"Daily\", bb_d[\"IEF US Equity\"].index.min(), bb_d[\"IEF US Equity\"].index.max()),\n",
    "    (\"USGG10YR Index\", \"US Generic Govt 10 Yr\", \"Bloomberg\", \"Daily\", bb_d[\"USGG10YR Index\"].index.min(), bb_d[\"USGG10YR Index\"].index.max()),\n",
    "    (\"USGG2YR Index\", \"US Generic Govt 2 Yr\", \"Bloomberg\", \"Daily\", bb_d[\"USGG2YR Index\"].index.min(), bb_d[\"USGG2YR Index\"].index.max()),\n",
    "    (\"CLEV16%Y Index\", \"Federal Reserve Bank of Cleveland 16% Trimmed-Mean CPI YoY% Change\", \"Bloomberg\", \"Monthly\", bb_d[\"CLEV16%Y Index\"].index.min(), bb_d[\"CLEV16%Y Index\"].index.max()),\n",
    "    (\"CLEVXPYC Index\", \"US Cleveland Fed Inflation Nowcasting Core PCE YoY Current Period\", \"Bloomberg\", \"Daily\", bb_d[\"CLEVXPYC Index\"].index.min(), bb_d[\"CLEVXPYC Index\"].index.max()),\n",
    "    (\"USGG5Y5Y INDEX\", \"U.S. 5yr 5yr Forward Breakeven\", \"Bloomberg\", \"Daily\", bb_d[\"USGG5Y5Y INDEX\"].index.min(), bb_d[\"USGG5Y5Y INDEX\"].index.max()),\n",
    "    (\"S0042FS 3M3M BLC CURNCY\", \"USD OIS FWD swap 3M3M\", \"Bloomberg\", \"Daily\", bb_d[\"S0042FS 3M3M BLC CURNCY\"].index.min(), bb_d[\"S0042FS 3M3M BLC CURNCY\"].index.max()),\n",
    "    (\"JFRIUS INDEX\", \"JPMorgan Forecast Revision Index United States\", \"Bloomberg\", \"Weekly\", bb_d[\"JFRIUS INDEX\"].index.min(), bb_d[\"JFRIUS INDEX\"].index.max()),\n",
    "    (\"FARWUSNB Index\", \"Reserve Balance Wednesday Close Notes & Bonds Held\", \"Bloomberg\", \"Weekly\", bb_d[\"FARWUSNB Index\"].index.min(), bb_d[\"FARWUSNB Index\"].index.max()),\n",
    "    (\"FARWUSII Index\", \"Reserve Balance Wednesday Close Inflation Indexed\", \"Bloomberg\", \"Weekly\", bb_d[\"FARWUSII Index\"].index.min(), bb_d[\"FARWUSII Index\"].index.max()),\n",
    "    (\"DEBPNOTE Index\", \"US Total Debt Outstanding Notes\", \"Bloomberg\", \"Monthly\", bb_d[\"DEBPNOTE Index\"].index.min(), bb_d[\"DEBPNOTE Index\"].index.max()),\n",
    "    (\"DEBPBOND Index\", \"US Total Debt Outstanding Bonds\", \"Bloomberg\", \"Monthly\", bb_d[\"DEBPBOND Index\"].index.min(), bb_d[\"DEBPBOND Index\"].index.max()),\n",
    "    (\"DEBPINNT Index\", \"US Total Debt Outstanding TIPS\", \"Bloomberg\", \"Monthly\", bb_d[\"DEBPINNT Index\"].index.min(), bb_d[\"DEBPINNT Index\"].index.max()),\n",
    "]\n",
    "\n",
    "desc_df = pd.DataFrame(mapping_dict, columns=[\"Factor\", \"Description\", \"Source\", \"Frequency\", \"Start Date\", \"End Date\"])"
   ]
  },
  {
   "cell_type": "code",
   "execution_count": 20,
   "metadata": {},
   "outputs": [
    {
     "ename": "",
     "evalue": "",
     "output_type": "error",
     "traceback": [
      "\u001b[1;31mThe Kernel crashed while executing code in the current cell or a previous cell. \n",
      "\u001b[1;31mPlease review the code in the cell(s) to identify a possible cause of the failure. \n",
      "\u001b[1;31mClick <a href='https://aka.ms/vscodeJupyterKernelCrash'>here</a> for more info. \n",
      "\u001b[1;31mView Jupyter <a href='command:jupyter.viewOutput'>log</a> for further details."
     ]
    }
   ],
   "source": [
    "with pd.ExcelWriter('Monday_Economic_Data.xlsx', engine='xlsxwriter') as writer:\n",
    "    monday_data.to_excel(writer, sheet_name='Data')\n",
    "    z_score_data.to_excel(writer, sheet_name='Z-Scores')\n",
    "    desc_df.to_excel(writer, sheet_name='Data Dictionary', index=False)\n"
   ]
  }
 ],
 "metadata": {
  "kernelspec": {
   "display_name": "Python 3",
   "language": "python",
   "name": "python3"
  },
  "language_info": {
   "codemirror_mode": {
    "name": "ipython",
    "version": 3
   },
   "file_extension": ".py",
   "mimetype": "text/x-python",
   "name": "python",
   "nbconvert_exporter": "python",
   "pygments_lexer": "ipython3",
   "version": "3.10.13"
  }
 },
 "nbformat": 4,
 "nbformat_minor": 2
}
