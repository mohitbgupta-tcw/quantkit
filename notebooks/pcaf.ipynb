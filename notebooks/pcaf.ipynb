{
 "cells": [
  {
   "cell_type": "code",
   "execution_count": 1,
   "metadata": {},
   "outputs": [],
   "source": [
    "# add quantkit to path\n",
    "import sys\n",
    "from pathlib import Path\n",
    "d = Path().resolve().parent.parent\n",
    "sys.path.insert(0, str(d))"
   ]
  },
  {
   "cell_type": "markdown",
   "metadata": {},
   "source": [
    "## Get Available Versions"
   ]
  },
  {
   "cell_type": "code",
   "execution_count": 2,
   "metadata": {},
   "outputs": [
    {
     "data": {
      "text/plain": [
       "['_12_2021', '_03_2023', '_09_2023', '_03_2024']"
      ]
     },
     "execution_count": 2,
     "metadata": {},
     "output_type": "execute_result"
    }
   ],
   "source": [
    "import quantkit.handyman.pcaf_data_loader as pcaf_data_loader\n",
    "pcaf_data_loader.get_available_versions()"
   ]
  },
  {
   "cell_type": "markdown",
   "metadata": {},
   "source": [
    "## Load Data"
   ]
  },
  {
   "cell_type": "code",
   "execution_count": 2,
   "metadata": {},
   "outputs": [
    {
     "name": "stderr",
     "output_type": "stream",
     "text": [
      "C:\\Users\\bastit\\OneDrive - The TCW Group Inc\\Documents\\quantkit\\quantkit\\core\\data_sources\\pcaf.py:110: DtypeWarning: Columns (12,15,20) have mixed types. Specify dtype option on import or set low_memory=False.\n",
      "  self.df = pd.read_csv(f\"./downloads/{file}\")\n",
      "C:\\Users\\bastit\\OneDrive - The TCW Group Inc\\Documents\\quantkit\\quantkit\\core\\data_sources\\pcaf.py:110: DtypeWarning: Columns (11,14,20) have mixed types. Specify dtype option on import or set low_memory=False.\n",
      "  self.df = pd.read_csv(f\"./downloads/{file}\")\n"
     ]
    }
   ],
   "source": [
    "import quantkit.handyman.pcaf_data_loader as pcaf_data_loader\n",
    "\n",
    "all_asset_classes = ['BL_LE_PF', 'M', 'CRE', 'MV', 'SD', 'CL', 'PMVL']\n",
    "data = {}\n",
    "\n",
    "for ac in all_asset_classes:\n",
    "    pcaf = pcaf_data_loader.run_pcaf_api(ac, version=\"latest\")\n",
    "    data[ac] = pcaf"
   ]
  },
  {
   "cell_type": "markdown",
   "metadata": {},
   "source": [
    "## Write to Snowflake"
   ]
  },
  {
   "cell_type": "code",
   "execution_count": 4,
   "metadata": {},
   "outputs": [],
   "source": [
    "import quantkit.utils.snowflake_utils as snowflake_utils\n",
    "\n",
    "local_configs = \"C:\\\\Users\\\\bastit\\\\OneDrive - The TCW Group Inc\\\\Documents\\\\quantkit\\\\configs\\\\configs.json\"\n",
    "schema = \"\"\n",
    "\n",
    "for ac, data in data.items():\n",
    "    snowflake_utils.write_to_snowflake(\n",
    "        data,\n",
    "        database=\"SANDBOX_ESG\",\n",
    "        schema=schema,\n",
    "        table_name=ac,\n",
    "        local_configs=local_configs\n",
    "    )"
   ]
  }
 ],
 "metadata": {
  "kernelspec": {
   "display_name": "Python 3",
   "language": "python",
   "name": "python3"
  },
  "language_info": {
   "codemirror_mode": {
    "name": "ipython",
    "version": 3
   },
   "file_extension": ".py",
   "mimetype": "text/x-python",
   "name": "python",
   "nbconvert_exporter": "python",
   "pygments_lexer": "ipython3",
   "version": "3.10.13"
  }
 },
 "nbformat": 4,
 "nbformat_minor": 2
}
