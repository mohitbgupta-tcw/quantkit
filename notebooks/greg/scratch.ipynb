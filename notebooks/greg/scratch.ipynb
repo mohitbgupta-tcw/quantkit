{
 "cells": [
  {
   "cell_type": "code",
   "execution_count": 7,
   "id": "7f7101e4",
   "metadata": {},
   "outputs": [],
   "source": [
    "# add quantkit to path\n",
    "import sys\n",
    "from pathlib import Path\n",
    "d = Path().resolve().parent.parent.parent\n",
    "sys.path.insert(0, str(d))"
   ]
  },
  {
   "cell_type": "code",
   "execution_count": 11,
   "id": "9a16f072",
   "metadata": {},
   "outputs": [],
   "source": [
    "import quantkit.bt as bt"
   ]
  },
  {
   "cell_type": "code",
   "execution_count": null,
   "id": "4a567bf1",
   "metadata": {},
   "outputs": [],
   "source": []
  }
 ],
 "metadata": {
  "kernelspec": {
   "display_name": "Python 3 (ipykernel)",
   "language": "python",
   "name": "python3"
  },
  "language_info": {
   "codemirror_mode": {
    "name": "ipython",
    "version": 3
   },
   "file_extension": ".py",
   "mimetype": "text/x-python",
   "name": "python",
   "nbconvert_exporter": "python",
   "pygments_lexer": "ipython3",
   "version": "3.10.14"
  }
 },
 "nbformat": 4,
 "nbformat_minor": 5
}
